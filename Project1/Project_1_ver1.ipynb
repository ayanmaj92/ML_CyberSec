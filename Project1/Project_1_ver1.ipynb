{
  "nbformat": 4,
  "nbformat_minor": 0,
  "metadata": {
    "colab": {
      "name": "Project_1_-_Template_hand-out.ipynb",
      "version": "0.3.2",
      "provenance": [],
      "collapsed_sections": [],
      "include_colab_link": true
    },
    "kernelspec": {
      "name": "python3",
      "display_name": "Python 3"
    },
    "accelerator": "GPU"
  },
  "cells": [
    {
      "cell_type": "markdown",
      "metadata": {
        "id": "view-in-github",
        "colab_type": "text"
      },
      "source": [
        "<a href=\"https://colab.research.google.com/github/jojoayan1992/ML_CyberSec/blob/master/Project1/Project_1_ver1.ipynb\" target=\"_parent\"><img src=\"https://colab.research.google.com/assets/colab-badge.svg\" alt=\"Open In Colab\"/></a>"
      ]
    },
    {
      "metadata": {
        "colab_type": "text",
        "id": "4NzyqehHjUlG"
      },
      "cell_type": "markdown",
      "source": [
        "# ML in Cybersecurity: Project I\n",
        "\n",
        "## Team\n",
        "  * **Team name**:  *fill this in*\n",
        "  * **Members**:  *fill this in. format: name1 (email1), name2 (email2), ...*\n",
        "  * **Tutor**: *fill this in after being assigned*\n",
        "\n",
        "\n",
        "## Logistics\n",
        "  * **Due date**: 11th November 2018, 23:59:59 (to email the completed notebook to your respective tutors)\n",
        "  * Complete this in **teams of 3**\n",
        "  * Write to Hossein (hossein.hajipour@cispa.saarland) by **2nd November** your team members and team-name. \n",
        "  * In case you cannot find a team, some available options: (a) Contact Hossein, who can help you out (b) Post on the [course group](https://groups.google.com/d/forum/ml-cysec-2018)\n",
        "  * Each team will be assigned a tutor. Mail the notebook (or share the collab link) to the respective TAs before the due date.\n",
        "  \n",
        "  \n",
        "## Timeline\n",
        "  * 29-Oct-2018: Project 1 hand-out\n",
        "  * 2-Nov-2018: Write to Hossein your team-name and members\n",
        "  * 5-Nov-2018: Each team is assigned a tutor\n",
        "  * **11-Nov-2018** (23:59:59): Email completed notebook to respective TAs\n",
        "  * **12-Nov-2018** (12:15-14:00, regular tutorial slot): Teams present their projects\n",
        "  * 19-Nov-2018 (12:15-14:00, regular tutorial slot): Project 1 discussion and summary\n",
        "  \n",
        "  \n",
        "## About this Project\n",
        "In this project, you'll implement a digit classifier, based on the popular [MNIST](http://yann.lecun.com/exdb/mnist/) dataset. The dataset is based on a seminal [paper](http://yann.lecun.com/exdb/publis/pdf/lecun-01a.pdf), which immensely popularized (convolutional) neural networks. This is a great starting point for ML research and this dataset/model has been a stepping stone numerous other tasks such as [GANs](https://papers.nips.cc/paper/5423-generative-adversarial-nets.pdf), [Adversarial Perturbations](https://arxiv.org/abs/1412.6572) and so many more!\n",
        "\n",
        "This dataset consists of data $\\mathcal{D} = \\{x_i, y_i\\}_{i=1}^N$, where $x_i$ is a 28x28 pixel grayscale image and $y_i$ is a scalar represeting digits between 0-9. The notebook will guide you to load this data, implement classifiers $\\hat{y_i} = f_w(x_i)$  and analyze results. By doing so, you'll have a ML model that works on real data!\n",
        "\n",
        "To put things into context, have a look at Slide 24 in the [second](https://cms.cispa.saarland/mlcysec/dl/2/2018-10-24_ML_overview.pdf) lecture. Within this framework, the following blocks of this project are fixed:\n",
        "  * *Real-world problem*: Digit classification\n",
        "  * *Performance metric*: Mean accuracy i.e., $ \\frac{1}{N} \\sum_{i=1}^N \\mathbb{1}[\\hat{y_i} = y_i]$, where $\\mathbb{1}[\\hat{y_i} = y_i]$ is 1 if your model predicted the right digit for the $i$-th digit and 0 otherwise.\n",
        "  * *Data*: The MNIST dataset\n",
        "\n",
        "You'll make the the following design-choices:\n",
        " * *Choice of Model*: A model family (Non-parametric methods, Linear classifiers, Neural Networks, etc.)\n",
        " * *ML Model*: Specific model (e.g., SVM with a polynomial kernel)\n",
        " * *Loss/Risk*\n",
        " * *Optimization*\n",
        "\n",
        "\n",
        "## A Note on Grading\n",
        "The grading for this project will depend on:\n",
        " 1. Functional digit classifier\n",
        "   * Following a well-defined ML pipeline\n",
        "   * Developing 3 classification models (keep them diverse and ideally of increasing complexity)\n",
        "   * Obtaining reasonable accuracies (>80%) on a held-out test set\n",
        " 1. Analysis\n",
        "   * Which methods work better than the rest and why?\n",
        "   * Which hyper-parameters and design-choices were important in each of your methods?\n",
        "   * Quantifying influence of these hyper-parameters on loss and/or validation accuracies\n",
        "   * Trade-offs between methods, hyper-parameters, design-choices\n",
        "    * Anything else you find interesting (this part is open-ended)\n",
        " \n",
        "We will evaluate this criteria in a **12-minute presentation** (9 mins for presentation + 3 mins for Q&A). This will be during the regular tutorial slot on 12th November 12:00-14:00 (Location will be conveyed soon). In case you have time restrictions during the time of the tutorial, notify us asap!  You can present on your laptops.\n",
        "\n",
        "The most interesting findings will be discussed in the tutorial slot on 19th November.\n",
        " \n",
        " A note on (1.): \n",
        "  * choose your models that aids good insights. We require at least one non-Neural Network (e.g., SVM, KNN) and one Neural Network model (e.g., MLP, CNN).\n",
        "  * We definitely don't expect all three models to achieve >99% test accuracies!\n",
        " \n",
        " \n",
        "## Filling-in the Notebook\n",
        "You'll be submitting this very notebook that is filled-in with your code and analysis. Make sure you submit one that has been previously executed in-order. (So that results/graphs are already visible upon opening it). \n",
        "\n",
        "The notebook you submit **should compile** (or should be self-contained and sufficiently commented). Check tutorial 1 on how to set up the Python3 environment.\n",
        "\n",
        "It is extremely important that you **do not** re-order the existing sections. Apart from that, the code blocks that you need to fill-in are given by:\n",
        "```\n",
        "#\n",
        "#\n",
        "# ------- Your Code -------\n",
        "#\n",
        "#\n",
        "```\n",
        "Feel free to break this into multiple-cells. It's even better if you interleave explanations and code-blocks so that the entire notebook forms a readable \"story\".\n",
        "\n",
        "\n",
        "## Code of Honor\n",
        "We encourage discussing ideas and concepts with other students to help you learn and better understand the course content. However, the work you submit and present **must be original** and demonstrate your effort in solving the presented problems. **We will not tolerate** blatantly using existing solutions (such as from the internet), improper collaboration (e.g., sharing code or experimental data between groups) and plagiarism. If the honor code is not met, no points will be awarded.\n",
        "\n",
        " \n",
        " ## Versions\n",
        "  * v1.1: Added Code of Honor\n",
        "  * v1.0: Initial notebook\n",
        "  \n",
        "  ---"
      ]
    },
    {
      "metadata": {
        "colab_type": "code",
        "id": "3ewNwfFvbFaR",
        "colab": {}
      },
      "cell_type": "code",
      "source": [
        "import time \n",
        " \n",
        "import numpy as np \n",
        "import matplotlib.pyplot as plt \n",
        "\n",
        "import json \n",
        "import time \n",
        "import pickle \n",
        "import sys \n",
        "import csv \n",
        "import os \n",
        "import os.path as osp \n",
        "import shutil \n",
        "\n",
        "import pandas as pd\n",
        "\n",
        "from IPython.display import display, HTML\n",
        " \n",
        "%matplotlib inline \n",
        "plt.rcParams['figure.figsize'] = (10.0, 8.0) # set default size of plots \n",
        "plt.rcParams['image.interpolation'] = 'nearest' \n",
        "plt.rcParams['image.cmap'] = 'gray' \n",
        " \n",
        "# for auto-reloading external modules \n",
        "# see http://stackoverflow.com/questions/1907993/autoreload-of-modules-in-ipython \n",
        "%load_ext autoreload\n",
        "%autoreload 2"
      ],
      "execution_count": 0,
      "outputs": []
    },
    {
      "metadata": {
        "colab_type": "code",
        "id": "640GrzbOevr0",
        "colab": {
          "base_uri": "https://localhost:8080/",
          "height": 34
        },
        "outputId": "9f869316-9a04-42d4-ff1d-b77256583d84"
      },
      "cell_type": "code",
      "source": [
        "# Load other libraries here.\n",
        "# Keep it minimal! We should be easily able to reproduce your code.\n",
        "\n",
        "# In case you want to use neural networks, we only support sklearn and keras (With a tensorflow backend).\n",
        "\n",
        "import sklearn\n",
        "from sklearn.neighbors import KNeighborsClassifier\n",
        "import sklearn.model_selection\n",
        "import sklearn.metrics\n",
        "from sklearn.model_selection import StratifiedShuffleSplit\n",
        "import tensorflow as tf\n",
        "from keras.datasets import mnist"
      ],
      "execution_count": 2,
      "outputs": [
        {
          "output_type": "stream",
          "text": [
            "Using TensorFlow backend.\n"
          ],
          "name": "stderr"
        }
      ]
    },
    {
      "metadata": {
        "colab_type": "text",
        "id": "nxi-lLD0mKHD"
      },
      "cell_type": "markdown",
      "source": [
        "Helpers\n",
        "\n",
        "In case you choose to have some methods you plan to reuse during the notebook, define them here. This will avoid clutter and keep rest of the notebook succinct."
      ]
    },
    {
      "metadata": {
        "colab_type": "code",
        "id": "VBbigqdEmKd8",
        "colab": {}
      },
      "cell_type": "code",
      "source": [
        "def identity_func(foo):\n",
        "    return foo\n",
        "\n",
        "\n",
        "#\n",
        "#\n",
        "# ------- Your Code -------\n",
        "#\n",
        "#"
      ],
      "execution_count": 0,
      "outputs": []
    },
    {
      "metadata": {
        "colab_type": "text",
        "id": "n1pcmKkyjT7y"
      },
      "cell_type": "markdown",
      "source": [
        "# 1. Loading and Visualizing data\n",
        "\n",
        "In this section, you'll need to prepare the MNIST data for the experiments you'll be conducting for the remainder of the notebook."
      ]
    },
    {
      "metadata": {
        "colab_type": "text",
        "id": "AIU9Q762fmoT"
      },
      "cell_type": "markdown",
      "source": [
        "## 1.1. Load Data\n",
        "\n",
        "Here you'll load the MNIST data into memory. The end-goal is to two have the following variables:\n",
        "  * `x_trainval`, `x_test`: of shape $N \\times d_1 \\times d_2 \\dots$ (e.g., $N \\times 784$. 784 since you could flatten each 28x28 pixel image into a single vector)\n",
        "  * `y_trainval`, `y_test`: of shape $N \\times K$ (K = 1 or 10 depending on how you plan to represent the ground-truth digit annotation)\n",
        "\n",
        "You can either do this by:\n",
        "  1. Downloading the MNIST dataset, unpacking and preparing it yourself to have fine-grained control\n",
        "  1. Using high-level existing functions, such as the one provided by  [`keras.datasets`](https://keras.io/datasets/#mnist-database-of-handwritten-digits).\n",
        "  \n",
        "  \n",
        "  In either case, it is important that you have disjoint trainval and test splits!"
      ]
    },
    {
      "metadata": {
        "scrolled": true,
        "id": "k52VgrWzVmIk",
        "colab_type": "code",
        "colab": {
          "base_uri": "https://localhost:8080/",
          "height": 50
        },
        "outputId": "10eb9b9d-a6e8-4538-cfd1-807b449a28df"
      },
      "cell_type": "code",
      "source": [
        "(x_trainval, y_trainval), (x_test, y_test) = mnist.load_data()"
      ],
      "execution_count": 3,
      "outputs": [
        {
          "output_type": "stream",
          "text": [
            "Downloading data from https://s3.amazonaws.com/img-datasets/mnist.npz\n",
            "11493376/11490434 [==============================] - 2s 0us/step\n"
          ],
          "name": "stdout"
        }
      ]
    },
    {
      "metadata": {
        "colab_type": "code",
        "id": "7kYacpo_jvao",
        "scrolled": true,
        "colab": {
          "base_uri": "https://localhost:8080/",
          "height": 67
        },
        "outputId": "b15a4747-6c97-4402-847d-7ff84fe1e202"
      },
      "cell_type": "code",
      "source": [
        "#\n",
        "#\n",
        "# ------- Your Code -------\n",
        "#\n",
        "#\n",
        "\n",
        "print('x_trainval.shape = {},  y_trainval.shape = {}'.format(x_trainval.shape, y_trainval.shape))\n",
        "print('x_test.shape = {},  y_test.shape = {}'.format(x_test.shape, y_test.shape))\n",
        "\n",
        "#\n",
        "# Feel free to have multiple variables in case your models are designed for different formats\n",
        "# For instance, in case your model requires Nx28x28 inputs, declare x_trainval_3d, etc.\n",
        "\n",
        "# Tip: Set this to a tiny number (such 0.05) to aid debugging\n",
        "# After all, you do not want to train/evaluate on the entire dataset to find bugs\n",
        "DEBUG_FRAC = 0.1\n",
        "# Resample x_[], y_[]\n",
        "x = np.concatenate((x_trainval, x_test))\n",
        "#print(x.shape)\n",
        "y = np.concatenate((y_trainval, y_test))\n",
        "#print(y.shape)\n",
        "sss = StratifiedShuffleSplit(n_splits=1, test_size=int(DEBUG_FRAC * x_test.shape[0]), train_size=int(DEBUG_FRAC * x_trainval.shape[0]), random_state=42)\n",
        "idx = sss.split(x,y)\n",
        "for train_idx, test_idx in idx:\n",
        "    x_trainval, y_trainval = x[train_idx], y[train_idx]\n",
        "    x_test, y_test = x[test_idx], y[test_idx]\n",
        "\n",
        "print(x_trainval.shape, x_test.shape)"
      ],
      "execution_count": 4,
      "outputs": [
        {
          "output_type": "stream",
          "text": [
            "x_trainval.shape = (60000, 28, 28),  y_trainval.shape = (60000,)\n",
            "x_test.shape = (10000, 28, 28),  y_test.shape = (10000,)\n",
            "(6000, 28, 28) (1000, 28, 28)\n"
          ],
          "name": "stdout"
        }
      ]
    },
    {
      "metadata": {
        "colab_type": "text",
        "id": "eA6_cejNjzYw"
      },
      "cell_type": "markdown",
      "source": [
        "## 1.2. Visualize Data\n",
        "\n",
        "To get the hang of your data you'll be training a digit classifier on, visualize it.\n",
        "\n",
        "Examples of ways to visualize it:\n",
        "  * Given a digit, display few randomly sampled images for this digit (the bare minimum)\n",
        "  * Visualize as a grid (e.g., Slide 7, [Lecture 2](https://cms.cispa.saarland/mlcysec/dl/2/2018-10-24_ML_overview.pdf)) using a combination of `plt.imshow` and `plt.subplots`\n",
        "  \n",
        "It's up to you to decide how you want to do this. The end-goal is for you to potentially give a trailer of the dataset to someone who hasn't seen it before."
      ]
    },
    {
      "metadata": {
        "colab_type": "code",
        "id": "dISIbt4plyoD",
        "colab": {
          "base_uri": "https://localhost:8080/",
          "height": 421
        },
        "outputId": "36f87871-6941-45fc-d937-b6c4998331a4"
      },
      "cell_type": "code",
      "source": [
        "#\n",
        "#\n",
        "# ------- Your Code -------\n",
        "%matplotlib inline\n",
        "fig, axes = plt.subplots(3,3)\n",
        "plt.subplots_adjust(bottom=0.01, top=1.3, right=1)\n",
        "nums = [0, 5, 8]\n",
        "for i in range(len(nums)):\n",
        "    sample_idxs = (y_trainval == nums[i])\n",
        "    sample_X = x_trainval[sample_idxs][:3]\n",
        "    for s_num in range(len(sample_X)):\n",
        "        axes[i, s_num].imshow(sample_X[s_num], cmap='gray')\n",
        "#\n",
        "#\n",
        "#plt.imshow(x_train[0], cmap='gray')\n",
        "#plt.savefig('fig1.pdf')   # Save the figures in case you want to use it in the presentation\n",
        "#plt.show()   # These should be some visualization of data at the end of this section"
      ],
      "execution_count": 5,
      "outputs": [
        {
          "output_type": "display_data",
          "data": {
            "image/png": "[encoded data removed]",
            "text/plain": [
              "<matplotlib.figure.Figure at 0x7fdf7d098630>"
            ]
          },
          "metadata": {
            "tags": []
          }
        }
      ]
    },
    {
      "metadata": {
        "colab_type": "text",
        "id": "b8sAT53jmJ8_"
      },
      "cell_type": "markdown",
      "source": [
        "# 2. Digit classifiers\n",
        "\n",
        "In this section, you'll begin developing models to perform digit classification.\n",
        "\n",
        "Each model needs to be structured like so:\n",
        "  1. Give a brief reason which model you are going to train and why you choose it\n",
        "  1. Define hyper-parameters for model and optimization procedure\n",
        "  1. Define your model\n",
        "  1. Define optimization method and fit model to data\n",
        "  1. Summarize your findings\n",
        "\n",
        "\n",
        "\n",
        "\n",
        "\n"
      ]
    },
    {
      "metadata": {
        "colab_type": "text",
        "id": "xkF-7eFnpWoe"
      },
      "cell_type": "markdown",
      "source": [
        "## 2.1: Model [M1]: *fill-this-in*\n",
        "\n",
        "**Short description **: *fill this in*"
      ]
    },
    {
      "metadata": {
        "colab_type": "text",
        "id": "lVyT9Oddp3GB"
      },
      "cell_type": "markdown",
      "source": [
        "### 2.1.1: Hyper-parameters\n",
        "\n",
        "Define hyper-parameters for your method here"
      ]
    },
    {
      "metadata": {
        "colab_type": "code",
        "id": "yuHt4T7Vp5NC",
        "colab": {
          "base_uri": "https://localhost:8080/",
          "height": 50
        },
        "outputId": "6282517a-d5ad-4581-db1d-f776a8d13734"
      },
      "cell_type": "code",
      "source": [
        "#\n",
        "#\n",
        "# ------- Your Code -------\n",
        "#\n",
        "#\n",
        "\n",
        "#gamma = 0.001 # example\n",
        "num_neighbors = np.arange(1, 11)\n",
        "weights = [\"uniform\", \"distance\"]\n",
        "#norm = np.arange(1, 6)\n",
        "param_space = {\"n_neighbors\": num_neighbors, \"weights\": weights}\n",
        "print(x_trainval.shape)\n",
        "#x_trainval_knn = x_trainval.reshape(x_trainval.shape[0],-1)\n",
        "x_trainval_knn = x_trainval.reshape(x_trainval.shape[0],-1)\n",
        "print(x_trainval_knn.shape)\n",
        "y_trainval_knn = y_trainval\n",
        "x_test_knn = x_test.reshape(x_test.shape[0],-1)\n",
        "y_test_knn = y_test\n",
        "\n",
        "test_set = 'val'  #  or 'test'\n",
        "# Decide all your hyperparameters based on validation performance\n",
        "# Then, switch to 'test' for final evaluation\n",
        "if test_set == 'val':\n",
        "    train_idxs, val_idxs = ..., ...   # Fill in\n",
        "    x_train, y_train = x_trainval[train_idxs], y_trainval[train_idxs]\n",
        "    x_eval, y_eval = x_trainval[val_idxs], y_trainval[val_idxs]\n",
        "else:\n",
        "    x_train, y_train = x_trainval, y_trainval\n",
        "    x_eval, y_eval = x_test, y_test"
      ],
      "execution_count": 6,
      "outputs": [
        {
          "output_type": "stream",
          "text": [
            "(6000, 28, 28)\n",
            "(6000, 784)\n"
          ],
          "name": "stdout"
        }
      ]
    },
    {
      "metadata": {
        "colab_type": "text",
        "id": "pkuCgPatp59X"
      },
      "cell_type": "markdown",
      "source": [
        "### 2.1.2: Model\n",
        "\n",
        "Define your model here (all hyper-parameters in 2.1.1)"
      ]
    },
    {
      "metadata": {
        "colab_type": "code",
        "id": "3qV3SuPAp6XF",
        "colab": {}
      },
      "cell_type": "code",
      "source": [
        "#\n",
        "#\n",
        "# ------- Your Code -------\n",
        "#\n",
        "#\n",
        "knn = KNeighborsClassifier()\n",
        "#train_scores, test_scores = sklearn.model_selection.validation_curve(\n",
        "#    knn, x_trainval_knn, y_trainval_knn, param_name=\"n_neighbors\", param_range=num_neighbors,\n",
        "#    cv=5, scoring=\"accuracy\", n_jobs=1)\n",
        "grid_search = sklearn.model_selection.GridSearchCV(knn, param_space, verbose=2, n_jobs=-1, cv=3, refit=True, return_train_score=True, scoring=\"accuracy\")\n"
      ],
      "execution_count": 0,
      "outputs": []
    },
    {
      "metadata": {
        "id": "_dmkX74JVmJg",
        "colab_type": "code",
        "colab": {
          "base_uri": "https://localhost:8080/",
          "height": 2218
        },
        "outputId": "b582078e-3833-42a4-c920-fcb33819fb62"
      },
      "cell_type": "code",
      "source": [
        "grid_search.fit(x_trainval_knn, y_trainval_knn)"
      ],
      "execution_count": 10,
      "outputs": [
        {
          "output_type": "stream",
          "text": [
            "Fitting 3 folds for each of 20 candidates, totalling 60 fits\n",
            "[CV] n_neighbors=1, weights=uniform ..................................\n",
            "[CV] n_neighbors=1, weights=uniform ..................................\n",
            "[CV] ................... n_neighbors=1, weights=uniform, total=  24.4s\n",
            "[CV] n_neighbors=1, weights=uniform ..................................\n",
            "[CV] ................... n_neighbors=1, weights=uniform, total=  24.3s\n",
            "[CV] n_neighbors=1, weights=distance .................................\n",
            "[CV] ................... n_neighbors=1, weights=uniform, total=  24.7s\n",
            "[CV] n_neighbors=1, weights=distance .................................\n",
            "[CV] .................. n_neighbors=1, weights=distance, total=  24.9s\n",
            "[CV] n_neighbors=1, weights=distance .................................\n",
            "[CV] .................. n_neighbors=1, weights=distance, total=  24.7s\n",
            "[CV] n_neighbors=2, weights=uniform ..................................\n",
            "[CV] .................. n_neighbors=1, weights=distance, total=  24.7s\n",
            "[CV] n_neighbors=2, weights=uniform ..................................\n",
            "[CV] ................... n_neighbors=2, weights=uniform, total=  24.8s\n",
            "[CV] n_neighbors=2, weights=uniform ..................................\n",
            "[CV] ................... n_neighbors=2, weights=uniform, total=  25.0s\n",
            "[CV] n_neighbors=2, weights=distance .................................\n",
            "[CV] ................... n_neighbors=2, weights=uniform, total=  24.6s\n",
            "[CV] n_neighbors=2, weights=distance .................................\n",
            "[CV] .................. n_neighbors=2, weights=distance, total=  24.9s\n",
            "[CV] n_neighbors=2, weights=distance .................................\n",
            "[CV] .................. n_neighbors=2, weights=distance, total=  24.8s\n",
            "[CV] n_neighbors=3, weights=uniform ..................................\n",
            "[CV] .................. n_neighbors=2, weights=distance, total=  24.6s\n",
            "[CV] n_neighbors=3, weights=uniform ..................................\n",
            "[CV] ................... n_neighbors=3, weights=uniform, total=  24.9s\n",
            "[CV] n_neighbors=3, weights=uniform ..................................\n",
            "[CV] ................... n_neighbors=3, weights=uniform, total=  24.7s\n",
            "[CV] n_neighbors=3, weights=distance .................................\n",
            "[CV] .................. n_neighbors=3, weights=distance, total=  24.7s\n",
            "[CV] n_neighbors=3, weights=distance .................................\n",
            "[CV] ................... n_neighbors=3, weights=uniform, total=  24.8s\n",
            "[CV] n_neighbors=3, weights=distance .................................\n",
            "[CV] .................. n_neighbors=3, weights=distance, total=  24.6s\n",
            "[CV] n_neighbors=4, weights=uniform ..................................\n",
            "[CV] .................. n_neighbors=3, weights=distance, total=  24.8s\n",
            "[CV] n_neighbors=4, weights=uniform ..................................\n",
            "[CV] ................... n_neighbors=4, weights=uniform, total=  24.5s\n",
            "[CV] n_neighbors=4, weights=uniform ..................................\n",
            "[CV] ................... n_neighbors=4, weights=uniform, total=  24.1s\n",
            "[CV] n_neighbors=4, weights=distance .................................\n",
            "[CV] ................... n_neighbors=4, weights=uniform, total=  24.7s\n",
            "[CV] n_neighbors=4, weights=distance .................................\n",
            "[CV] .................. n_neighbors=4, weights=distance, total=  24.9s\n",
            "[CV] n_neighbors=4, weights=distance .................................\n",
            "[CV] .................. n_neighbors=4, weights=distance, total=  24.8s\n",
            "[CV] n_neighbors=5, weights=uniform ..................................\n",
            "[CV] .................. n_neighbors=4, weights=distance, total=  24.7s\n",
            "[CV] n_neighbors=5, weights=uniform ..................................\n",
            "[CV] ................... n_neighbors=5, weights=uniform, total=  24.8s\n",
            "[CV] n_neighbors=5, weights=uniform ..................................\n",
            "[CV] ................... n_neighbors=5, weights=uniform, total=  24.9s\n",
            "[CV] n_neighbors=5, weights=distance .................................\n",
            "[CV] ................... n_neighbors=5, weights=uniform, total=  24.4s\n",
            "[CV] n_neighbors=5, weights=distance .................................\n",
            "[CV] .................. n_neighbors=5, weights=distance, total=  24.5s\n",
            "[CV] n_neighbors=5, weights=distance .................................\n",
            "[CV] .................. n_neighbors=5, weights=distance, total=  24.7s\n",
            "[CV] n_neighbors=6, weights=uniform ..................................\n",
            "[CV] .................. n_neighbors=5, weights=distance, total=  24.7s\n",
            "[CV] n_neighbors=6, weights=uniform ..................................\n",
            "[CV] ................... n_neighbors=6, weights=uniform, total=  24.7s\n",
            "[CV] n_neighbors=6, weights=uniform ..................................\n",
            "[CV] ................... n_neighbors=6, weights=uniform, total=  24.8s\n",
            "[CV] n_neighbors=6, weights=distance .................................\n",
            "[CV] ................... n_neighbors=6, weights=uniform, total=  24.7s\n",
            "[CV] n_neighbors=6, weights=distance .................................\n",
            "[CV] .................. n_neighbors=6, weights=distance, total=  24.9s\n",
            "[CV] n_neighbors=6, weights=distance .................................\n",
            "[CV] .................. n_neighbors=6, weights=distance, total=  24.5s\n",
            "[CV] n_neighbors=7, weights=uniform ..................................\n",
            "[CV] .................. n_neighbors=6, weights=distance, total=  24.1s\n",
            "[CV] n_neighbors=7, weights=uniform ..................................\n",
            "[CV] ................... n_neighbors=7, weights=uniform, total=  24.5s\n",
            "[CV] n_neighbors=7, weights=uniform ..................................\n"
          ],
          "name": "stdout"
        },
        {
          "output_type": "stream",
          "text": [
            "[Parallel(n_jobs=-1)]: Done  37 tasks      | elapsed: 22.2min\n"
          ],
          "name": "stderr"
        },
        {
          "output_type": "stream",
          "text": [
            "[CV] ................... n_neighbors=7, weights=uniform, total=  24.3s\n",
            "[CV] n_neighbors=7, weights=distance .................................\n",
            "[CV] ................... n_neighbors=7, weights=uniform, total=  25.2s\n",
            "[CV] n_neighbors=7, weights=distance .................................\n",
            "[CV] .................. n_neighbors=7, weights=distance, total=  25.1s\n",
            "[CV] n_neighbors=7, weights=distance .................................\n",
            "[CV] .................. n_neighbors=7, weights=distance, total=  25.2s\n",
            "[CV] n_neighbors=8, weights=uniform ..................................\n",
            "[CV] .................. n_neighbors=7, weights=distance, total=  25.3s\n",
            "[CV] n_neighbors=8, weights=uniform ..................................\n",
            "[CV] ................... n_neighbors=8, weights=uniform, total=  25.1s\n",
            "[CV] n_neighbors=8, weights=uniform ..................................\n",
            "[CV] ................... n_neighbors=8, weights=uniform, total=  25.0s\n",
            "[CV] n_neighbors=8, weights=distance .................................\n",
            "[CV] ................... n_neighbors=8, weights=uniform, total=  25.0s\n",
            "[CV] n_neighbors=8, weights=distance .................................\n",
            "[CV] .................. n_neighbors=8, weights=distance, total=  25.3s\n",
            "[CV] n_neighbors=8, weights=distance .................................\n",
            "[CV] .................. n_neighbors=8, weights=distance, total=  25.1s\n",
            "[CV] n_neighbors=9, weights=uniform ..................................\n",
            "[CV] .................. n_neighbors=8, weights=distance, total=  25.0s\n",
            "[CV] n_neighbors=9, weights=uniform ..................................\n",
            "[CV] ................... n_neighbors=9, weights=uniform, total=  25.2s\n",
            "[CV] n_neighbors=9, weights=uniform ..................................\n",
            "[CV] ................... n_neighbors=9, weights=uniform, total=  25.0s\n",
            "[CV] n_neighbors=9, weights=distance .................................\n",
            "[CV] ................... n_neighbors=9, weights=uniform, total=  25.2s\n",
            "[CV] n_neighbors=9, weights=distance .................................\n",
            "[CV] .................. n_neighbors=9, weights=distance, total=  24.9s\n",
            "[CV] n_neighbors=9, weights=distance .................................\n",
            "[CV] .................. n_neighbors=9, weights=distance, total=  25.3s\n",
            "[CV] n_neighbors=10, weights=uniform .................................\n",
            "[CV] .................. n_neighbors=9, weights=distance, total=  25.3s\n",
            "[CV] n_neighbors=10, weights=uniform .................................\n",
            "[CV] .................. n_neighbors=10, weights=uniform, total=  25.2s\n",
            "[CV] n_neighbors=10, weights=uniform .................................\n",
            "[CV] .................. n_neighbors=10, weights=uniform, total=  25.2s\n",
            "[CV] n_neighbors=10, weights=distance ................................\n",
            "[CV] .................. n_neighbors=10, weights=uniform, total=  25.1s\n",
            "[CV] n_neighbors=10, weights=distance ................................\n",
            "[CV] ................. n_neighbors=10, weights=distance, total=  25.2s\n",
            "[CV] n_neighbors=10, weights=distance ................................\n",
            "[CV] ................. n_neighbors=10, weights=distance, total=  25.3s\n",
            "[CV] ................. n_neighbors=10, weights=distance, total=  25.0s\n"
          ],
          "name": "stdout"
        },
        {
          "output_type": "stream",
          "text": [
            "[Parallel(n_jobs=-1)]: Done  60 out of  60 | elapsed: 36.0min finished\n"
          ],
          "name": "stderr"
        },
        {
          "output_type": "execute_result",
          "data": {
            "text/plain": [
              "GridSearchCV(cv=3, error_score='raise',\n",
              "       estimator=KNeighborsClassifier(algorithm='auto', leaf_size=30, metric='minkowski',\n",
              "           metric_params=None, n_jobs=1, n_neighbors=5, p=2,\n",
              "           weights='uniform'),\n",
              "       fit_params=None, iid=True, n_jobs=-1,\n",
              "       param_grid={'n_neighbors': array([ 1,  2,  3,  4,  5,  6,  7,  8,  9, 10]), 'weights': ['uniform', 'distance']},\n",
              "       pre_dispatch='2*n_jobs', refit=True, return_train_score=True,\n",
              "       scoring='accuracy', verbose=2)"
            ]
          },
          "metadata": {
            "tags": []
          },
          "execution_count": 10
        }
      ]
    },
    {
      "metadata": {
        "id": "_lHSriqhVmJr",
        "colab_type": "code",
        "colab": {}
      },
      "cell_type": "code",
      "source": [
        "print(grid_search.cv_results_['params'][grid_search.best_index_])\n",
        "y_pred = grid_search.predict(x_test_knn)\n",
        "\n",
        "print(sklearn.metrics.accuracy_score(y_test_knn, y_pred))"
      ],
      "execution_count": 0,
      "outputs": []
    },
    {
      "metadata": {
        "id": "OzliNCGCVmJx",
        "colab_type": "code",
        "colab": {}
      },
      "cell_type": "code",
      "source": [
        "print(grid_search.cv_results_)"
      ],
      "execution_count": 0,
      "outputs": []
    },
    {
      "metadata": {
        "id": "70Uev6GOVmJ3",
        "colab_type": "code",
        "colab": {}
      },
      "cell_type": "code",
      "source": [
        "list_ids_distance = []\n",
        "for i, x in enumerate(grid_search.cv_results_['params']):\n",
        "    if x['weights'] == 'distance':\n",
        "        list_ids_distance.append(i) \n",
        "    \n",
        "list_ids_uniform = []\n",
        "for i, x in enumerate(grid_search.cv_results_['params']):\n",
        "    if x['weights'] == 'uniform':\n",
        "        list_ids_uniform.append(i) \n",
        "\n"
      ],
      "execution_count": 0,
      "outputs": []
    },
    {
      "metadata": {
        "id": "sgxYETLrVmJ7",
        "colab_type": "code",
        "colab": {}
      },
      "cell_type": "code",
      "source": [
        "#train_scores_mean = grid_search.cv_results_['mean_train_score'][list_ids]\n",
        "#train_scores_std = grid_search.cv_results_['std_train_score'][list_ids]\n",
        "test_scores_dist_mean = grid_search.cv_results_['mean_test_score'][list_ids_distance]\n",
        "test_scores_dist_std = grid_search.cv_results_['std_test_score'][list_ids_distance]\n",
        "test_scores_unif_mean = grid_search.cv_results_['mean_test_score'][list_ids_uniform]\n",
        "test_scores_unif_std = grid_search.cv_results_['std_test_score'][list_ids_uniform]\n",
        "\n",
        "plt.title(\"Validation Curve with KNN\")\n",
        "plt.xlabel(\"n_neighbors (k)\")\n",
        "plt.ylabel(\"Score\")\n",
        "plt.xticks(num_neighbors)\n",
        "\n",
        "plt.plot(num_neighbors, test_scores_dist_mean, label=\"Cross-Validation score distance weighting\",\n",
        "             color=\"darkorange\")\n",
        "plt.fill_between(num_neighbors, test_scores_dist_mean - test_scores_dist_std,\n",
        "                 test_scores_dist_mean + test_scores_dist_std, alpha=0.2,\n",
        "                 color=\"darkorange\")\n",
        "plt.plot(num_neighbors, test_scores_unif_mean, label=\"Cross-validation score uniform weighting\",\n",
        "             color=\"navy\")\n",
        "plt.fill_between(num_neighbors, test_scores_unif_mean - test_scores_unif_std,\n",
        "                 test_scores_unif_mean + test_scores_unif_std, alpha=0.2,\n",
        "                 color=\"navy\")\n",
        "plt.legend(loc=\"best\")\n",
        "plt.show()"
      ],
      "execution_count": 0,
      "outputs": []
    },
    {
      "metadata": {
        "id": "5aSOFw9hVmKB",
        "colab_type": "code",
        "colab": {}
      },
      "cell_type": "code",
      "source": [
        "knn_10 = KNeighborsClassifier(n_neighbors=4, weights=\"distance\")"
      ],
      "execution_count": 0,
      "outputs": []
    },
    {
      "metadata": {
        "colab_type": "text",
        "id": "SxE6d6OXp6sU"
      },
      "cell_type": "markdown",
      "source": [
        "### 2.1.3: Fit Model\n",
        "\n",
        "Define optimization procedure and fit your model to the data"
      ]
    },
    {
      "metadata": {
        "colab_type": "code",
        "id": "08tLwuchp68-",
        "colab": {},
        "outputId": "147ed789-a18f-4455-f36b-611910c74aef"
      },
      "cell_type": "code",
      "source": [
        "knn_10.fit(x_trainval_knn, y_trainval_knn)"
      ],
      "execution_count": 0,
      "outputs": [
        {
          "output_type": "execute_result",
          "data": {
            "text/plain": [
              "KNeighborsClassifier(algorithm='auto', leaf_size=30, metric='minkowski',\n",
              "           metric_params=None, n_jobs=None, n_neighbors=4, p=2,\n",
              "           weights='distance')"
            ]
          },
          "metadata": {
            "tags": []
          },
          "execution_count": 69
        }
      ]
    },
    {
      "metadata": {
        "id": "sV3b1xRPVmKa",
        "colab_type": "code",
        "colab": {}
      },
      "cell_type": "code",
      "source": [
        "y_pred = knn_10.predict(x_trainval_knn)"
      ],
      "execution_count": 0,
      "outputs": []
    },
    {
      "metadata": {
        "id": "NTSAI7GEVmKf",
        "colab_type": "code",
        "colab": {},
        "outputId": "ca281c31-b74f-4ae0-bab6-76583d28ca78"
      },
      "cell_type": "code",
      "source": [
        "sklearn.metrics.accuracy_score(y_trainval_knn, y_pred)"
      ],
      "execution_count": 0,
      "outputs": [
        {
          "output_type": "execute_result",
          "data": {
            "text/plain": [
              "1.0"
            ]
          },
          "metadata": {
            "tags": []
          },
          "execution_count": 71
        }
      ]
    },
    {
      "metadata": {
        "colab_type": "text",
        "id": "QaJv_d_Dp7OM"
      },
      "cell_type": "markdown",
      "source": [
        "### 2.1.4: Evaluation\n",
        "\n",
        "Evaluate your model.\n",
        "\n",
        "When possible, you should have:\n",
        "  * Loss curves: Plot epoch (# passes over training data) and loss\n",
        "  * Accuracy curves: Plot epoch and accuracy over val/test set\n",
        "  * Final numbers: Report final accuracy numbers for your model"
      ]
    },
    {
      "metadata": {
        "colab_type": "code",
        "id": "kZtLgPZrp7h5",
        "colab": {}
      },
      "cell_type": "code",
      "source": [
        "#\n",
        "#\n",
        "# ------- Your Code -------\n",
        "#\n",
        "#"
      ],
      "execution_count": 0,
      "outputs": []
    },
    {
      "metadata": {
        "colab_type": "text",
        "id": "DEQrdyLHsUIu"
      },
      "cell_type": "markdown",
      "source": [
        "### 2.1.5: Summary\n",
        "\n",
        "Summarize your findings:\n",
        " * Which hyper-parameters were important and how did they influence your results?\n",
        " * What were other design choices you faced?\n",
        " * Any other interesting insights..."
      ]
    },
    {
      "metadata": {
        "colab_type": "text",
        "id": "Fcq52WUUs2Mm"
      },
      "cell_type": "markdown",
      "source": [
        "# 2.2: Model [M2]: *fill-this-in*\n",
        "\n",
        "*use the same format as above. Repeat Sections 2.1.1 -- 2.1.5*\n",
        "\n",
        "# 2.3: Model [M3]: *fill-this-in*\n",
        "\n",
        "*use the same format as above. Repeat Sections 2.1.1 -- 2.1.5*"
      ]
    },
    {
      "metadata": {
        "colab_type": "text",
        "id": "Ex3qQp3JolD1"
      },
      "cell_type": "markdown",
      "source": [
        "# 3. Summary\n",
        "\n",
        "Enter your final summary here.\n",
        "\n",
        "You should now compare performance  on the three models [M1], [M2] and [M3]. Present this in a tabular format and/or using plots.\n",
        "\n",
        "Which model do you recommend to perform digit classification and why?\n",
        "\n",
        "Feel free to discuss other insightful observations."
      ]
    },
    {
      "metadata": {
        "colab_type": "code",
        "id": "pa6rPT53LUW8",
        "colab": {}
      },
      "cell_type": "code",
      "source": [
        ""
      ],
      "execution_count": 0,
      "outputs": []
    }
  ]
}